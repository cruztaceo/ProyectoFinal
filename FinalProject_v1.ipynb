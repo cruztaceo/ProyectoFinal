{
 "cells": [
  {
   "cell_type": "markdown",
   "source": [
    "<a href=\"https://colab.research.google.com/github/Dr-Carlos-Villasenor/VisionComputacional/blob/main/L07_RedesConvolucionales.ipynb\" target=\"_parent\"><img src=\"https://colab.research.google.com/assets/colab-badge.svg\" alt=\"Open In Colab\"/></a>"
   ],
   "metadata": {
    "collapsed": false
   }
  },
  {
   "cell_type": "markdown",
   "source": [
    "# Visión Computacional\n",
    "## Dr. Carlos Villaseñor\n",
    "## Lección 7 - Redes Neuronales convolucionales\n",
    "\n",
    "#### Cars196 Dataset\n",
    "3D Object Representations for Fine-Grained Categorization\n",
    "       Jonathan Krause, Michael Stark, Jia Deng, Li Fei-Fei\n",
    "       4th IEEE Workshop on 3D Representation and Recognition, at ICCV 2013 (3dRR-13). Sydney, Australia. Dec. 8, 2013.\n"
   ],
   "metadata": {
    "collapsed": false
   }
  },
  {
   "cell_type": "markdown",
   "source": [
    "Primeramente importamos unos paquetes"
   ],
   "metadata": {
    "collapsed": false
   }
  },
  {
   "cell_type": "code",
   "execution_count": 1,
   "outputs": [],
   "source": [
    "# Importamos numpy y matplotlib\n",
    "import numpy as np\n",
    "import matplotlib.pyplot as plt\n",
    "import tensorflow_datasets as tfds\n",
    "import tensorflow as tf\n",
    "\n",
    "# Importamos lo necesario para crear la red\n",
    "from tensorflow import keras\n",
    "from keras.models import Sequential\n",
    "from keras.layers import Dense, Dropout, Flatten, Rescaling, Resizing, Reshape\n",
    "from keras.layers import Conv2D, MaxPooling2D\n",
    "from keras import backend\n",
    "\n",
    "# Importamos unos paquetes de sklearn para comprobar el modelo\n",
    "from sklearn.metrics import classification_report, confusion_matrix\n",
    "\n",
    "num_classes = 196\n",
    "img_height = 40\n",
    "img_width = 40"
   ],
   "metadata": {
    "collapsed": false,
    "pycharm": {
     "name": "#%%\n"
    }
   }
  },
  {
   "cell_type": "markdown",
   "source": [
    "Cargamos el dataset de cars196"
   ],
   "metadata": {
    "collapsed": false
   }
  },
  {
   "cell_type": "code",
   "execution_count": null,
   "outputs": [],
   "source": [
    "(train_image, train_label) = tfds.load(\n",
    "    'cars196',\n",
    "    split=['train', 'test'],\n",
    "    as_supervised=True,\n",
    "    batch_size=-1\n",
    ")"
   ],
   "metadata": {
    "collapsed": false,
    "pycharm": {
     "name": "#%%\n",
     "is_executing": true
    }
   }
  },
  {
   "cell_type": "code",
   "execution_count": null,
   "outputs": [],
   "source": [
    "def to_categorical(image, label):\n",
    "  return image.reshape(image.shape[0]), tf.one_hot(label, num_classes)\n",
    "\n",
    "ds_train = ds_train.map(\n",
    "    to_categorical, num_parallel_calls=tf.data.AUTOTUNE)\n",
    "\n",
    "ds_train = ds_train.cache()\n",
    "ds_train = ds_train.shuffle(ds_info.splits['train'].num_examples)\n",
    "ds_train = ds_train.batch(128)\n",
    "ds_train = ds_train.prefetch(tf.data.AUTOTUNE)"
   ],
   "metadata": {
    "collapsed": false,
    "pycharm": {
     "name": "#%%\n"
    }
   }
  },
  {
   "cell_type": "code",
   "execution_count": null,
   "outputs": [],
   "source": [
    "ds_test = ds_test.map(\n",
    "    to_categorical, num_parallel_calls=tf.data.AUTOTUNE)\n",
    "\n",
    "ds_test = ds_test.batch(128)\n",
    "ds_test = ds_test.cache()\n",
    "ds_test = ds_test.prefetch(tf.data.AUTOTUNE)"
   ],
   "metadata": {
    "collapsed": false,
    "pycharm": {
     "name": "#%%\n"
    }
   }
  },
  {
   "cell_type": "code",
   "execution_count": null,
   "outputs": [],
   "source": [
    "if backend.image_data_format() == 'channels_first':\n",
    "    input_shape = (3, img_height, img_width)\n",
    "else:\n",
    "    input_shape = (img_height, img_width, 3)\n",
    "\n",
    "print(input_shape)"
   ],
   "metadata": {
    "collapsed": false,
    "pycharm": {
     "name": "#%%\n"
    }
   }
  },
  {
   "cell_type": "code",
   "execution_count": null,
   "outputs": [],
   "source": [
    "def build_model():\n",
    "  model = Sequential()\n",
    "\n",
    "  model.add(Resizing(img_height, img_width))\n",
    "\n",
    "  model.add(Rescaling(1./255, input_shape=input_shape))\n",
    "\n",
    "  model.add(Conv2D(32,kernel_size=(3,3),\n",
    "                   activation='relu',\n",
    "                   input_shape=input_shape))\n",
    "  model.add(MaxPooling2D(pool_size=(2,2)))\n",
    "  model.add(Dropout(0.25))\n",
    "\n",
    "  model.add(Conv2D(64, kernel_size=(3,3), activation='relu'))\n",
    "  model.add(MaxPooling2D(pool_size=(2,2)))\n",
    "  model.add(Dropout(0.25))\n",
    "\n",
    "  model.add(Conv2D(128, kernel_size=(3,3), activation='relu'))\n",
    "  model.add(MaxPooling2D(pool_size=(2,2)))\n",
    "  model.add(Dropout(0.25))\n",
    "\n",
    "  model.add(Flatten())\n",
    "  model.add(Dense(128, activation='relu'))\n",
    "  model.add(Dropout(0.5))\n",
    "  model.add(Dense(num_classes, activation='softmax'))\n",
    "\n",
    "  model.compile(loss = keras.losses.categorical_crossentropy,\n",
    "                optimizer = 'adam',\n",
    "                metrics=['accuracy'])\n",
    "\n",
    "  return model"
   ],
   "metadata": {
    "collapsed": false,
    "pycharm": {
     "name": "#%%\n"
    }
   }
  },
  {
   "cell_type": "code",
   "execution_count": null,
   "outputs": [],
   "source": [
    "model = build_model()\n",
    "model.summary()"
   ],
   "metadata": {
    "collapsed": false,
    "pycharm": {
     "name": "#%%\n"
    }
   }
  },
  {
   "cell_type": "code",
   "execution_count": null,
   "outputs": [],
   "source": [
    "model.fit(ds_train,\n",
    "          epochs=6,\n",
    "          validation_data=ds_test)"
   ],
   "metadata": {
    "collapsed": false,
    "pycharm": {
     "name": "#%%\n"
    }
   }
  },
  {
   "cell_type": "code",
   "execution_count": null,
   "outputs": [],
   "source": [
    "ypred=model.predict(xtest)\n",
    "print('Salida de la red:\\n', ypred[0])"
   ],
   "metadata": {
    "collapsed": false,
    "pycharm": {
     "name": "#%%\n"
    }
   }
  },
  {
   "cell_type": "code",
   "execution_count": null,
   "outputs": [],
   "source": [
    "ypred = np.argmax(ypred, axis=1)\n",
    "print('Predicciones:\\n', ypred)"
   ],
   "metadata": {
    "collapsed": false,
    "pycharm": {
     "name": "#%%\n"
    }
   }
  },
  {
   "cell_type": "code",
   "execution_count": null,
   "outputs": [],
   "source": [
    "print('Reporte de clasificación:\\n', classification_report(ytest, ypred))\n",
    "print('Matriz de confusión:\\n', confusion_matrix(ytest, ypred))"
   ],
   "metadata": {
    "collapsed": false,
    "pycharm": {
     "name": "#%%\n"
    }
   }
  },
  {
   "cell_type": "code",
   "execution_count": null,
   "outputs": [],
   "source": [
    "class_names = ['T-shirt/top', 'Trouser', 'Pullover', 'Dress', 'Coat',\n",
    "               'Sandal', 'Shirt', 'Sneaker', 'Bag', 'Ankle boot']\n",
    "\n",
    "sample = np.random.randint(0,10000)\n",
    "x = xtest[sample].reshape(28,28)\n",
    "plt.imshow(x, cmap=plt.cm.gray)\n",
    "plt.title('Prediction: ' + class_names[ypred[sample]])\n",
    "plt.show()"
   ],
   "metadata": {
    "collapsed": false,
    "pycharm": {
     "name": "#%%\n"
    }
   }
  }
 ],
 "metadata": {
  "kernelspec": {
   "display_name": "Python 3",
   "language": "python",
   "name": "python3"
  },
  "language_info": {
   "codemirror_mode": {
    "name": "ipython",
    "version": 2
   },
   "file_extension": ".py",
   "mimetype": "text/x-python",
   "name": "python",
   "nbconvert_exporter": "python",
   "pygments_lexer": "ipython2",
   "version": "2.7.6"
  }
 },
 "nbformat": 4,
 "nbformat_minor": 0
}